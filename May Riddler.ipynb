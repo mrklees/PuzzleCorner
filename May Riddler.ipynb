{
 "cells": [
  {
   "cell_type": "markdown",
   "metadata": {},
   "source": [
    "## Riddler Express\n",
    "\n",
    "[Original Post](https://fivethirtyeight.com/features/pirates-monkeys-and-coconuts-oh-my/)\n",
    "\n",
    "Question:\n",
    "If A, B, C, D and E are all unique digits, what values would work with the following equation?\n",
    "\n",
    "ABC,CDE × 4 = EDC,CBA\n",
    "\n",
    "Initial Reaction:\n",
    "So, this is a class constraint satisfaction problem.  A standard approach would be backtracking.\n",
    "\n",
    "We know that a constraint is that A, B, C, D, and E are unique, which will help cut down on the options we'll need to consider.  However, what we want to consider is what might be an efficient search path through each possibility?\n",
    "\n",
    "Proposed Method:\n",
    "We need to iterate through all possible values where A, B, C, D, E and in \\[0, 9\\] and A, B, C, D, E and unique."
   ]
  },
  {
   "cell_type": "code",
   "execution_count": 11,
   "metadata": {},
   "outputs": [],
   "source": [
    "import numpy as np\n",
    "import pandas as pd"
   ]
  },
  {
   "cell_type": "code",
   "execution_count": 13,
   "metadata": {},
   "outputs": [],
   "source": [
    "all_combinations = pd.DataFrame(np.array(np.meshgrid([0, 1, 2, 3, 4, 5, 6, 7, 8, 9], [0, 1, 2, 3, 4, 5, 6, 7, 8, 9], [0, 1, 2, 3, 4, 5, 6, 7, 8, 9], [0, 1, 2, 3, 4, 5, 6, 7, 8, 9], [0, 1, 2, 3, 4, 5, 6, 7, 8, 9])).T.reshape(-1, 5))"
   ]
  },
  {
   "cell_type": "code",
   "execution_count": 21,
   "metadata": {},
   "outputs": [],
   "source": [
    "all_combinations['nunique'] = all_combinations.apply(lambda x: x.nunique(), axis=1) "
   ]
  },
  {
   "cell_type": "code",
   "execution_count": 30,
   "metadata": {},
   "outputs": [],
   "source": [
    "searchgrid = all_combinations[all_combinations['nunique'] == 5]"
   ]
  },
  {
   "cell_type": "code",
   "execution_count": 45,
   "metadata": {},
   "outputs": [],
   "source": [
    "def process(array):\n",
    "    a, b, c, d, e = array\n",
    "    left = np.sum(np.array([a, b, c, c, d, e]) * np.array([1e5, 1e4, 1e3, 1e2, 1e1, 1e0])) * 4\n",
    "    right = np.sum(np.array([e, d, c, c, b, a]) * np.array([1e5, 1e4, 1e3, 1e2, 1e1, 1e0]))\n",
    "    return left == right"
   ]
  },
  {
   "cell_type": "code",
   "execution_count": 50,
   "metadata": {},
   "outputs": [
    {
     "name": "stderr",
     "output_type": "stream",
     "text": [
      "C:\\Users\\perus\\AppData\\Local\\Continuum\\Anaconda3\\lib\\site-packages\\ipykernel_launcher.py:1: SettingWithCopyWarning: \n",
      "A value is trying to be set on a copy of a slice from a DataFrame.\n",
      "Try using .loc[row_indexer,col_indexer] = value instead\n",
      "\n",
      "See the caveats in the documentation: http://pandas.pydata.org/pandas-docs/stable/indexing.html#indexing-view-versus-copy\n",
      "  \"\"\"Entry point for launching an IPython kernel.\n"
     ]
    }
   ],
   "source": [
    "searchgrid['answers'] = searchgrid.iloc[:, 0:5].apply(process, axis=1)"
   ]
  },
  {
   "cell_type": "code",
   "execution_count": 51,
   "metadata": {},
   "outputs": [
    {
     "data": {
      "text/html": [
       "<div>\n",
       "<style>\n",
       "    .dataframe thead tr:only-child th {\n",
       "        text-align: right;\n",
       "    }\n",
       "\n",
       "    .dataframe thead th {\n",
       "        text-align: left;\n",
       "    }\n",
       "\n",
       "    .dataframe tbody tr th {\n",
       "        vertical-align: top;\n",
       "    }\n",
       "</style>\n",
       "<table border=\"1\" class=\"dataframe\">\n",
       "  <thead>\n",
       "    <tr style=\"text-align: right;\">\n",
       "      <th></th>\n",
       "      <th>0</th>\n",
       "      <th>1</th>\n",
       "      <th>2</th>\n",
       "      <th>3</th>\n",
       "      <th>4</th>\n",
       "      <th>nunique</th>\n",
       "      <th>answers</th>\n",
       "    </tr>\n",
       "  </thead>\n",
       "  <tbody>\n",
       "    <tr>\n",
       "      <th>87921</th>\n",
       "      <td>2</td>\n",
       "      <td>1</td>\n",
       "      <td>9</td>\n",
       "      <td>7</td>\n",
       "      <td>8</td>\n",
       "      <td>5</td>\n",
       "      <td>True</td>\n",
       "    </tr>\n",
       "  </tbody>\n",
       "</table>\n",
       "</div>"
      ],
      "text/plain": [
       "       0  1  2  3  4  nunique  answers\n",
       "87921  2  1  9  7  8        5     True"
      ]
     },
     "execution_count": 51,
     "metadata": {},
     "output_type": "execute_result"
    }
   ],
   "source": [
    "searchgrid[searchgrid.answers == True]"
   ]
  },
  {
   "cell_type": "markdown",
   "metadata": {},
   "source": [
    "# Riddler Classic\n",
    "\n",
    "From Ricky Jacobson, a classic problem of pirates, monkeys and coconuts:\n",
    "\n",
    "Seven pirates wash ashore on a deserted island after their ship sinks. In order to survive, they gather as many coconuts as they can find and throw them into a central pile. As the sun sets, they all go to sleep.\n",
    "\n",
    "One pirate wakes up in the middle of the night. Being the greedy person he is, this pirate decides to take some coconuts from the pile and hide them for himself. As he approaches the pile, though, he notices a monkey watching him. To keep the monkey quiet, the pirate tosses it one coconut from the pile. He then divides the rest of the pile into seven equally sized bunches and hides one of the bunches in the bushes. Finally, he recombines the remaining coconuts into a single pile and goes back to sleep. (Note that individual coconuts are very hard, and therefore indivisible.)\n",
    "\n",
    "Later that night, a second pirate wakes up with the same idea. She tosses the monkey one coconut from the central pile, divides the pile into seven bunches, hides her bunch, recombines the rest, and goes back to sleep. After that, a third pirate wakes up and does the same thing. Then a fourth. Then a fifth, and so on until all seven pirates have hidden a share of the coconuts.\n",
    "\n",
    "In the morning, the pirates look at the remaining central pile and notice that it has gotten quite small. They decide to split the pile into seven equal bunches and take one bunch each. (Note: The monkey does not get one this time.)\n",
    "\n",
    "If there were N coconuts in the pile originally, what is the smallest possible value of N?\n",
    "\n",
    "# Reaction\n",
    "\n",
    "Suppose at the end of the story there are exactly 7 coconuts and therefore everyone gets one.  How would the story have unfolded to get to this point.\n",
    "\n",
    "If we are left with seven then:\n",
    "(n - 1) / 7 = 7 <=> n = 50\n",
    "And likewise if we are left with 50 then:\n",
    "(n - 1) / 7 = 50 <=> n = 351\n",
    "\n",
    "Iterate through to the end to get the smallest possible value of N, which is about 5,902,058 coconuts."
   ]
  },
  {
   "cell_type": "code",
   "execution_count": 6,
   "metadata": {},
   "outputs": [
    {
     "name": "stdout",
     "output_type": "stream",
     "text": [
      "5902058\n"
     ]
    }
   ],
   "source": [
    "pile = 7\n",
    "n_pirates = 7\n",
    "for a in range(n_pirates):\n",
    "    pile = 7*pile + 1\n",
    "    \n",
    "print(pile)"
   ]
  },
  {
   "cell_type": "code",
   "execution_count": 13,
   "metadata": {},
   "outputs": [
    {
     "data": {
      "text/plain": [
       "7.0"
      ]
     },
     "execution_count": 13,
     "metadata": {},
     "output_type": "execute_result"
    }
   ],
   "source": [
    "(((((((pile - 1) / 7 - 1) / 7 - 1) / 7 - 1) / 7 - 1) / 7 - 1) / 7 - 1) / 7"
   ]
  },
  {
   "cell_type": "markdown",
   "metadata": {},
   "source": []
  }
 ],
 "metadata": {
  "kernelspec": {
   "display_name": "Python 3",
   "language": "python",
   "name": "python3"
  },
  "language_info": {
   "codemirror_mode": {
    "name": "ipython",
    "version": 3
   },
   "file_extension": ".py",
   "mimetype": "text/x-python",
   "name": "python",
   "nbconvert_exporter": "python",
   "pygments_lexer": "ipython3",
   "version": "3.6.1"
  }
 },
 "nbformat": 4,
 "nbformat_minor": 2
}
