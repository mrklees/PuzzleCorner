{
 "cells": [
  {
   "cell_type": "markdown",
   "metadata": {},
   "source": [
    "## The Classic\n",
    "\n",
    "[Link to the problem](https://fivethirtyeight.com/features/how-to-cross-the-street/)\n",
    "[Link to the solution](https://fivethirtyeight.com/features/how-fast-can-you-type-a-million-letters/)\n",
    "\n",
    "Oh man, as someone from Los Angeles I loved this problem and have thought about it independently for some time.  The situation is expressed concisely like this: in Downtown LA there is a marvelous grid of intersections that one has to navigate as they walk around, and because of the traffic and tendancy for hit-and-runs, not as muny people jay-walk here as they do in other cities.  So, the question is how to best traverse the grid under different conditions.  For example, on my commute to work I often have to make a choice: I can walk the legs of a right triangle or walk the hypotenuse.  I being the graduate of elementary trig, I know that I should aways try to walk the hypotenuse.  However, what if I would have to wait for a red light before being able to?  Then it might not be worth it to wait and just walk the legs?  Well, lets find out!"
   ]
  },
  {
   "cell_type": "code",
   "execution_count": 1,
   "metadata": {},
   "outputs": [],
   "source": [
    "import random\n",
    "import numpy as np\n",
    "from copy import deepcopy\n",
    "from tqdm import tqdm, tqdm_notebook"
   ]
  },
  {
   "cell_type": "markdown",
   "metadata": {},
   "source": [
    "## Developing a Simulator of the Environment\n",
    "\n",
    "In this situation we are hoping that we might be able to understand the best possible set of actions by sampling from the possibilities.  Before we can plug this into the Monte Carlo though, we need a simulator of the problem.  For this problem we construct the Grid class, which constructs an arbitrary street grid from a designated number of streets and cross streets.  Grid also manages the rules which allows us transition from state to state."
   ]
  },
  {
   "cell_type": "code",
   "execution_count": 2,
   "metadata": {},
   "outputs": [],
   "source": [
    "class Grid(object):\n",
    "    def __init__(self, streets, cross_streets, timer_max=10, start_point=(0, 0), end_point=(0, 0)):\n",
    "        self.streets = streets\n",
    "        self.cross_streets = cross_streets\n",
    "        self.timer_max = timer_max\n",
    "        self.intersection_state = self.initialize_intersections(streets, cross_streets)\n",
    "        self.timer_state = self.initialize_timers(streets, cross_streets, timer_max=timer_max)\n",
    "        self.grid = np.zeros((2*streets, 2*cross_streets))\n",
    "        self.set_start_end(start_point, end_point)\n",
    "        self.current_location = np.array(start_point)\n",
    "        self.goal_location = np.array(end_point)\n",
    "    \n",
    "    @staticmethod\n",
    "    def initialize_intersections(streets, cross_streets): \n",
    "        \"\"\"Initializes the intersection array\n",
    "\n",
    "        If an intersection is a 0, then it is green in the x direction\n",
    "        else it's green in the y direction\n",
    "        \"\"\"\n",
    "        return np.random.choice((0, 1), size=(streets, cross_streets))\n",
    "\n",
    "    @staticmethod\n",
    "    def initialize_timers(streets, cross_streets, timer_max=10):\n",
    "        \"\"\"Initializes the street timer array\n",
    "\n",
    "        Each spot contains a value between 0 and the max_timer, which \n",
    "        successively counts up to the max and then resets.\n",
    "        \"\"\"\n",
    "        return np.random.choice(range(timer_max), size=(streets, cross_streets))\n",
    "\n",
    "    def tick_timer(self):\n",
    "        \"\"\"Increases all timers by 1 and resets \"\"\"\n",
    "        return (self.timer_state + 1) % self.timer_max\n",
    "    \n",
    "    def tick_lights(self):\n",
    "        \"\"\"If a timer resets, flips the corresponding bit in walk signal\"\"\"\n",
    "        return (self.intersection_state + (self.timer_state == 0)) % 2\n",
    "    \n",
    "    def tick_state(self):\n",
    "        self.timer_state = self.tick_timer()\n",
    "        self.intersection_state = self.tick_lights()\n",
    "        \n",
    "    def set_start_end(self, start, end):\n",
    "        \"\"\"Provide start, end as tuples\"\"\"\n",
    "        self.grid[start] = 1\n",
    "        self.grid[end] = 10\n",
    "        \n",
    "    def coord_in_grid(self, x, y):\n",
    "        in_x = x in range(2*(self.streets))\n",
    "        in_y = y in range(2*(self.cross_streets))\n",
    "        return in_x and in_y\n",
    "    \n",
    "    def list_valid_moves(self):\n",
    "        \"\"\"Find valid movement options from the list of all possibilities\"\"\"\n",
    "        options = np.array([(-1, 0), (1, 0), (0, 1), (0, -1), (0, 0)])\n",
    "        valid = [self.coord_in_grid(*(self.current_location + option)) \n",
    "                 for option in options]\n",
    "        return options[valid]\n",
    "    \n",
    "    @staticmethod\n",
    "    def get_intersection(coord): return np.floor(coord / 2)\n",
    "    \n",
    "    def cost_wait_time(self, move):\n",
    "        \"\"\"Calulate the cost of the indicated move in terms of wait time and travel\n",
    "        \n",
    "        Uses internal state for current location and intersection/timer states\n",
    "        and then calculates the cost of that move. \n",
    "        \"\"\"\n",
    "        loc, intr = self.current_location, self.get_intersection(self.current_location).astype('int')\n",
    "        intr_state, timr_state = self.intersection_state[tuple(intr)], self.timer_state[tuple(intr)]\n",
    "        \n",
    "        if sum(move) > 0:\n",
    "            #print(\"Increasing case\")\n",
    "            # if old loc is even and new loc is odd\n",
    "            # then we're crossing an intersection\n",
    "            if loc[move != 0] % 2 == 0:\n",
    "                #print(\"Crossing Intersection\")\n",
    "                cost = (move[intr_state] * (10 - timr_state)) + 1\n",
    "            # else we're on the sidewalk\n",
    "            else:\n",
    "                #print(\"On sidewalk\")\n",
    "                cost = 1\n",
    "        elif sum(move) < 0:\n",
    "            #print(\"Decreasing case\")\n",
    "            if loc[move != 0] % 2 == 0:\n",
    "                #print(\"On sidewalk\")\n",
    "                cost = 1\n",
    "            else:\n",
    "                #print(\"Crossing Intersection\")\n",
    "                cost = (np.abs(move[intr_state]) * timr_state) + 1   \n",
    "        else:\n",
    "            cost = 1\n",
    "        return cost\n",
    "    \n",
    "    def dist_cost(self, move):\n",
    "        \"\"\"We also need to penalize moves that take us away from the goal\n",
    "        \n",
    "        We'll use a simple cost functions that consists of the square of the\n",
    "        differences in the components.\n",
    "        \"\"\"\n",
    "        new_loc = self.current_location + move\n",
    "        return np.linalg.norm(self.goal_location - new_loc)\n",
    "    \n",
    "    def total_cost(self, move): return self.dist_cost(move) + self.cost_wait_time(move)\n",
    "    \n",
    "    def set_initial_conditions(self, coord=np.array((0, 0)), light_state=0, timer_state=9):\n",
    "        \"\"\"The problem statement is actually interested in a decision \"\"\"\n",
    "        intr = tuple(self.get_intersection(coord).astype('int'))\n",
    "        #print(intr)\n",
    "        self.intersection_state[intr] = light_state\n",
    "        self.timer_state[intr] = timer_state\n",
    "        \n",
    "    def is_victorious(self): return tuple(self.current_location) == tuple(self.goal_location)\n",
    "    \n",
    "    def move(self, move):\n",
    "        self.grid[tuple(self.current_location)] = 0\n",
    "        self.current_location += np.array(move)\n",
    "        self.grid[tuple(self.current_location)] = 1"
   ]
  },
  {
   "cell_type": "markdown",
   "metadata": {},
   "source": [
    "Phew, just as a check we'll look at a few examples.  We can create a Grid here with 2 streets and 3 cross streets.  We'll start somewhere in the middle so that we have all 4 moves available as well. One quick thing to check is that we can monitor the state of the intersection over time."
   ]
  },
  {
   "cell_type": "code",
   "execution_count": 3,
   "metadata": {},
   "outputs": [],
   "source": [
    "start = (0, 0)\n",
    "end = (3, 5)\n",
    "grid = Grid(2, 3, start_point=start, end_point=end)"
   ]
  },
  {
   "cell_type": "code",
   "execution_count": 4,
   "metadata": {},
   "outputs": [
    {
     "name": "stdout",
     "output_type": "stream",
     "text": [
      "[[4 7 0]\n",
      " [7 3 9]]\n",
      "[[1 1 1]\n",
      " [1 0 1]]\n",
      "--------- Next State ----------\n",
      "[[5 8 1]\n",
      " [8 4 0]]\n",
      "[[1 1 1]\n",
      " [1 0 0]]\n",
      "--------- Next State ----------\n",
      "[[6 9 2]\n",
      " [9 5 1]]\n",
      "[[1 1 1]\n",
      " [1 0 0]]\n",
      "--------- Next State ----------\n",
      "[[7 0 3]\n",
      " [0 6 2]]\n",
      "[[1 0 1]\n",
      " [0 0 0]]\n",
      "--------- Next State ----------\n"
     ]
    }
   ],
   "source": [
    "for i in range(4):\n",
    "    print(grid.timer_state)\n",
    "    print(grid.intersection_state)\n",
    "    grid.tick_state()\n",
    "    print(\"--------- Next State ----------\")"
   ]
  },
  {
   "cell_type": "markdown",
   "metadata": {},
   "source": [
    "Our agent might do something like list all possible moves from their current point and then choose the one with the lease score.  So fore example it might look like:"
   ]
  },
  {
   "cell_type": "code",
   "execution_count": 25,
   "metadata": {},
   "outputs": [
    {
     "data": {
      "text/plain": [
       "array([[1, 0],\n",
       "       [0, 1],\n",
       "       [0, 0]])"
      ]
     },
     "execution_count": 25,
     "metadata": {},
     "output_type": "execute_result"
    }
   ],
   "source": [
    "possible_moves = grid.list_valid_moves()\n",
    "possible_moves"
   ]
  },
  {
   "cell_type": "code",
   "execution_count": 26,
   "metadata": {},
   "outputs": [
    {
     "data": {
      "text/plain": [
       "[6.385164807134504, 8.0, 6.830951894845301]"
      ]
     },
     "execution_count": 26,
     "metadata": {},
     "output_type": "execute_result"
    }
   ],
   "source": [
    "waittime = [grid.total_cost(move) for move in possible_moves]\n",
    "waittime"
   ]
  },
  {
   "cell_type": "markdown",
   "metadata": {},
   "source": [
    "And so in this case we would choose the move (0, 1) which had the lowest cost.\n",
    "\n",
    "## Our Agent\n",
    "\n",
    "Now that we have a sufficient simulator, lets get to work on the agent to solve this problem."
   ]
  },
  {
   "cell_type": "code",
   "execution_count": 27,
   "metadata": {},
   "outputs": [],
   "source": [
    "class NaiveAgent(object):\n",
    "    def __init__(self):\n",
    "        self.step_count = 0\n",
    "    \n",
    "    def solve(self, grid, verbose=0):\n",
    "        if verbose: print(grid.grid)\n",
    "        while grid.is_victorious() == False:\n",
    "            # While we haven't reached the finish point\n",
    "            # List possible moves\n",
    "            possible_moves = grid.list_valid_moves()\n",
    "            # Calculate the cost for each one\n",
    "            wait_times = [grid.total_cost(move) for move in possible_moves]\n",
    "            # Select the best move\n",
    "            best = possible_moves[np.array(wait_times) == min(wait_times)]\n",
    "            # We should check if there is more than one best move, and then randomly choose between them\n",
    "            if verbose: print(best)\n",
    "            if len(best) > 1:\n",
    "                if verbose: print(\"Multiple good moves\")\n",
    "                # If there are multiple good moves then \n",
    "                best = best[random.randint(0, len(best)-1), :]\n",
    "            \n",
    "            if len(best.shape) > 1:\n",
    "                best = best[0]\n",
    "                \n",
    "            # Update the Grid with our choice\n",
    "            grid.move(best)\n",
    "            self.step_count += 1\n",
    "            # Print current state\n",
    "            if verbose: print(grid.grid)\n",
    "            # Tick the state\n",
    "            grid.tick_state()"
   ]
  },
  {
   "cell_type": "code",
   "execution_count": 28,
   "metadata": {},
   "outputs": [],
   "source": [
    "import seaborn as sns\n",
    "class SamplePaths(object):\n",
    "    def __init__(self, agent, grid_args):\n",
    "        self.grid_args = grid_args\n",
    "        self.agent = agent\n",
    "        \n",
    "    def sample(self, n_samples=5, verbose=False, initial_timer=0):\n",
    "        history = []\n",
    "        for i in tqdm_notebook(range(n_samples)):\n",
    "            run_grid = Grid(**self.grid_args)\n",
    "            # Set the grid the conditions specified in the problem. \n",
    "            run_grid.set_initial_conditions(coord=np.array((0, 0)), light_state=0, timer_state=5)\n",
    "            run_agent = deepcopy(self.agent)\n",
    "            run_agent.solve(run_grid, verbose=verbose)\n",
    "            history.append(run_agent.step_count)\n",
    "        return history\n",
    "     \n",
    "    def plot_history(self, history):\n",
    "        sns.distplot(history)"
   ]
  },
  {
   "cell_type": "markdown",
   "metadata": {},
   "source": [
    "Let's demo a single run with our sampler"
   ]
  },
  {
   "cell_type": "code",
   "execution_count": 29,
   "metadata": {},
   "outputs": [
    {
     "data": {
      "application/vnd.jupyter.widget-view+json": {
       "model_id": "ff827efaa1f648b38848ff43eb8d97d7",
       "version_major": 2,
       "version_minor": 0
      },
      "text/html": [
       "<p>Failed to display Jupyter Widget of type <code>HBox</code>.</p>\n",
       "<p>\n",
       "  If you're reading this message in the Jupyter Notebook or JupyterLab Notebook, it may mean\n",
       "  that the widgets JavaScript is still loading. If this message persists, it\n",
       "  likely means that the widgets JavaScript library is either not installed or\n",
       "  not enabled. See the <a href=\"https://ipywidgets.readthedocs.io/en/stable/user_install.html\">Jupyter\n",
       "  Widgets Documentation</a> for setup instructions.\n",
       "</p>\n",
       "<p>\n",
       "  If you're reading this message in another frontend (for example, a static\n",
       "  rendering on GitHub or <a href=\"https://nbviewer.jupyter.org/\">NBViewer</a>),\n",
       "  it may mean that your frontend doesn't currently support widgets.\n",
       "</p>\n"
      ],
      "text/plain": [
       "HBox(children=(IntProgress(value=0, max=1), HTML(value='')))"
      ]
     },
     "metadata": {},
     "output_type": "display_data"
    },
    {
     "name": "stdout",
     "output_type": "stream",
     "text": [
      "[[ 0.  0.  0.  0.  0.  0.]\n",
      " [ 1.  0.  0.  0.  0.  0.]\n",
      " [ 0.  0.  0.  0. 10.  0.]\n",
      " [ 0.  0.  0.  0.  0.  0.]]\n",
      "[[0 1]]\n",
      "[[ 0.  0.  0.  0.  0.  0.]\n",
      " [ 0.  1.  0.  0.  0.  0.]\n",
      " [ 0.  0.  0.  0. 10.  0.]\n",
      " [ 0.  0.  0.  0.  0.  0.]]\n",
      "[[0 1]]\n",
      "[[ 0.  0.  0.  0.  0.  0.]\n",
      " [ 0.  0.  1.  0.  0.  0.]\n",
      " [ 0.  0.  0.  0. 10.  0.]\n",
      " [ 0.  0.  0.  0.  0.  0.]]\n",
      "[[0 1]]\n",
      "[[ 0.  0.  0.  0.  0.  0.]\n",
      " [ 0.  0.  0.  1.  0.  0.]\n",
      " [ 0.  0.  0.  0. 10.  0.]\n",
      " [ 0.  0.  0.  0.  0.  0.]]\n",
      "[[1 0]\n",
      " [0 1]]\n",
      "Multiple good moves\n",
      "[[ 0.  0.  0.  0.  0.  0.]\n",
      " [ 0.  0.  0.  0.  0.  0.]\n",
      " [ 0.  0.  0.  1. 10.  0.]\n",
      " [ 0.  0.  0.  0.  0.  0.]]\n",
      "[[0 1]]\n",
      "[[0. 0. 0. 0. 0. 0.]\n",
      " [0. 0. 0. 0. 0. 0.]\n",
      " [0. 0. 0. 0. 1. 0.]\n",
      " [0. 0. 0. 0. 0. 0.]]\n",
      "\n"
     ]
    }
   ],
   "source": [
    "args = dict(streets=2,\n",
    "            cross_streets=3,\n",
    "            timer_max=10,\n",
    "            start_point=(1, 0),\n",
    "            end_point=(2, 4))\n",
    "agent = NaiveAgent()\n",
    "sampler = SamplePaths(agent, args)\n",
    "history = sampler.sample(n_samples=1, verbose=True, initial_timer=5)"
   ]
  },
  {
   "cell_type": "markdown",
   "metadata": {},
   "source": [
    "When we do many samples, we can also get a histogram of all of the step counts."
   ]
  },
  {
   "cell_type": "code",
   "execution_count": 30,
   "metadata": {},
   "outputs": [
    {
     "data": {
      "application/vnd.jupyter.widget-view+json": {
       "model_id": "9390fb4e1e5d402d98e3d7ed693b51c1",
       "version_major": 2,
       "version_minor": 0
      },
      "text/html": [
       "<p>Failed to display Jupyter Widget of type <code>HBox</code>.</p>\n",
       "<p>\n",
       "  If you're reading this message in the Jupyter Notebook or JupyterLab Notebook, it may mean\n",
       "  that the widgets JavaScript is still loading. If this message persists, it\n",
       "  likely means that the widgets JavaScript library is either not installed or\n",
       "  not enabled. See the <a href=\"https://ipywidgets.readthedocs.io/en/stable/user_install.html\">Jupyter\n",
       "  Widgets Documentation</a> for setup instructions.\n",
       "</p>\n",
       "<p>\n",
       "  If you're reading this message in another frontend (for example, a static\n",
       "  rendering on GitHub or <a href=\"https://nbviewer.jupyter.org/\">NBViewer</a>),\n",
       "  it may mean that your frontend doesn't currently support widgets.\n",
       "</p>\n"
      ],
      "text/plain": [
       "HBox(children=(IntProgress(value=0, max=1000), HTML(value='')))"
      ]
     },
     "metadata": {},
     "output_type": "display_data"
    },
    {
     "name": "stdout",
     "output_type": "stream",
     "text": [
      "\n"
     ]
    },
    {
     "data": {
      "image/png": "[encoded data removed]",
      "text/plain": [
       "<matplotlib.figure.Figure at 0x1a522390240>"
      ]
     },
     "metadata": {},
     "output_type": "display_data"
    }
   ],
   "source": [
    "history = sampler.sample(n_samples=1000, verbose=False)\n",
    "sampler.plot_history(history)"
   ]
  },
  {
   "cell_type": "markdown",
   "metadata": {},
   "source": [
    "So let's now set up the same grid, but adjust the starting points "
   ]
  },
  {
   "cell_type": "code",
   "execution_count": 11,
   "metadata": {},
   "outputs": [
    {
     "data": {
      "application/vnd.jupyter.widget-view+json": {
       "model_id": "0efd7a14b2e84632b7683cb2a26efb37",
       "version_major": 2,
       "version_minor": 0
      },
      "text/html": [
       "<p>Failed to display Jupyter Widget of type <code>HBox</code>.</p>\n",
       "<p>\n",
       "  If you're reading this message in the Jupyter Notebook or JupyterLab Notebook, it may mean\n",
       "  that the widgets JavaScript is still loading. If this message persists, it\n",
       "  likely means that the widgets JavaScript library is either not installed or\n",
       "  not enabled. See the <a href=\"https://ipywidgets.readthedocs.io/en/stable/user_install.html\">Jupyter\n",
       "  Widgets Documentation</a> for setup instructions.\n",
       "</p>\n",
       "<p>\n",
       "  If you're reading this message in another frontend (for example, a static\n",
       "  rendering on GitHub or <a href=\"https://nbviewer.jupyter.org/\">NBViewer</a>),\n",
       "  it may mean that your frontend doesn't currently support widgets.\n",
       "</p>\n"
      ],
      "text/plain": [
       "HBox(children=(IntProgress(value=0, max=3000), HTML(value='')))"
      ]
     },
     "metadata": {},
     "output_type": "display_data"
    },
    {
     "name": "stdout",
     "output_type": "stream",
     "text": [
      "\n"
     ]
    },
    {
     "data": {
      "application/vnd.jupyter.widget-view+json": {
       "model_id": "da9e198de5d344568a8340522126c98b",
       "version_major": 2,
       "version_minor": 0
      },
      "text/html": [
       "<p>Failed to display Jupyter Widget of type <code>HBox</code>.</p>\n",
       "<p>\n",
       "  If you're reading this message in the Jupyter Notebook or JupyterLab Notebook, it may mean\n",
       "  that the widgets JavaScript is still loading. If this message persists, it\n",
       "  likely means that the widgets JavaScript library is either not installed or\n",
       "  not enabled. See the <a href=\"https://ipywidgets.readthedocs.io/en/stable/user_install.html\">Jupyter\n",
       "  Widgets Documentation</a> for setup instructions.\n",
       "</p>\n",
       "<p>\n",
       "  If you're reading this message in another frontend (for example, a static\n",
       "  rendering on GitHub or <a href=\"https://nbviewer.jupyter.org/\">NBViewer</a>),\n",
       "  it may mean that your frontend doesn't currently support widgets.\n",
       "</p>\n"
      ],
      "text/plain": [
       "HBox(children=(IntProgress(value=0, max=3000), HTML(value='')))"
      ]
     },
     "metadata": {},
     "output_type": "display_data"
    },
    {
     "name": "stdout",
     "output_type": "stream",
     "text": [
      "\n"
     ]
    },
    {
     "data": {
      "image/png": "[encoded data removed]",
      "text/plain": [
       "<matplotlib.figure.Figure at 0x1a522209d30>"
      ]
     },
     "metadata": {},
     "output_type": "display_data"
    }
   ],
   "source": [
    "# Models where we step to the right\n",
    "sp1 = dict(streets=2,\n",
    "            cross_streets=3,\n",
    "            timer_max=10,\n",
    "            start_point=(0, 1),\n",
    "            end_point=(2, 4))\n",
    "# Models starting where we step down\n",
    "sp2 = dict(streets=2,\n",
    "            cross_streets=3,\n",
    "            timer_max=10,\n",
    "            start_point=(1, 0),\n",
    "            end_point=(2, 4))\n",
    "# Create the samplers for the agents in different starting points\n",
    "sample_right = SamplePaths(agent, sp1)\n",
    "sample_down = SamplePaths(agent, sp2)\n",
    "# The history for moving right will get 1 addition step added\n",
    "history_right = np.array(sample_right.sample(n_samples=3000, verbose=False, initial_timer=0)) + 1\n",
    "history_down = np.array(sample_down.sample(n_samples=3000, verbose=False, initial_timer=0))\n",
    "# Plot results\n",
    "sample_right.plot_history(history_right)\n",
    "sample_down.plot_history(history_down)"
   ]
  },
  {
   "cell_type": "code",
   "execution_count": 20,
   "metadata": {},
   "outputs": [
    {
     "data": {
      "application/vnd.jupyter.widget-view+json": {
       "model_id": "2b7c9370762d452cbaadceabf9aed455",
       "version_major": 2,
       "version_minor": 0
      },
      "text/html": [
       "<p>Failed to display Jupyter Widget of type <code>HBox</code>.</p>\n",
       "<p>\n",
       "  If you're reading this message in the Jupyter Notebook or JupyterLab Notebook, it may mean\n",
       "  that the widgets JavaScript is still loading. If this message persists, it\n",
       "  likely means that the widgets JavaScript library is either not installed or\n",
       "  not enabled. See the <a href=\"https://ipywidgets.readthedocs.io/en/stable/user_install.html\">Jupyter\n",
       "  Widgets Documentation</a> for setup instructions.\n",
       "</p>\n",
       "<p>\n",
       "  If you're reading this message in another frontend (for example, a static\n",
       "  rendering on GitHub or <a href=\"https://nbviewer.jupyter.org/\">NBViewer</a>),\n",
       "  it may mean that your frontend doesn't currently support widgets.\n",
       "</p>\n"
      ],
      "text/plain": [
       "HBox(children=(IntProgress(value=0, max=1), HTML(value='')))"
      ]
     },
     "metadata": {},
     "output_type": "display_data"
    },
    {
     "name": "stdout",
     "output_type": "stream",
     "text": [
      "[[ 0.  0.  0.  0.  0.  0.]\n",
      " [ 1.  0.  0.  0.  0.  0.]\n",
      " [ 0.  0.  0.  0. 10.  0.]\n",
      " [ 0.  0.  0.  0.  0.  0.]]\n",
      "[[0 1]]\n",
      "[[ 0.  0.  0.  0.  0.  0.]\n",
      " [ 0.  1.  0.  0.  0.  0.]\n",
      " [ 0.  0.  0.  0. 10.  0.]\n",
      " [ 0.  0.  0.  0.  0.  0.]]\n",
      "[[0 1]]\n",
      "[[ 0.  0.  0.  0.  0.  0.]\n",
      " [ 0.  0.  1.  0.  0.  0.]\n",
      " [ 0.  0.  0.  0. 10.  0.]\n",
      " [ 0.  0.  0.  0.  0.  0.]]\n",
      "[[1 0]]\n",
      "[[ 0.  0.  0.  0.  0.  0.]\n",
      " [ 0.  0.  0.  0.  0.  0.]\n",
      " [ 0.  0.  1.  0. 10.  0.]\n",
      " [ 0.  0.  0.  0.  0.  0.]]\n",
      "[[0 1]\n",
      " [0 0]]\n",
      "Multiple good moves\n",
      "[[ 0.  0.  0.  0.  0.  0.]\n",
      " [ 0.  0.  0.  0.  0.  0.]\n",
      " [ 0.  0.  0.  1. 10.  0.]\n",
      " [ 0.  0.  0.  0.  0.  0.]]\n",
      "[[0 1]]\n",
      "[[0. 0. 0. 0. 0. 0.]\n",
      " [0. 0. 0. 0. 0. 0.]\n",
      " [0. 0. 0. 0. 1. 0.]\n",
      " [0. 0. 0. 0. 0. 0.]]\n",
      "\n"
     ]
    },
    {
     "data": {
      "text/plain": [
       "[5]"
      ]
     },
     "execution_count": 20,
     "metadata": {},
     "output_type": "execute_result"
    }
   ],
   "source": [
    "sample_down.sample(n_samples=1, verbose=True, initial_timer=0)"
   ]
  },
  {
   "cell_type": "code",
   "execution_count": 12,
   "metadata": {},
   "outputs": [
    {
     "data": {
      "text/plain": [
       "(8.362666666666666, 6.257333333333333)"
      ]
     },
     "execution_count": 12,
     "metadata": {},
     "output_type": "execute_result"
    }
   ],
   "source": [
    "history_right.mean(), history_down.mean()"
   ]
  },
  {
   "cell_type": "code",
   "execution_count": 13,
   "metadata": {},
   "outputs": [
    {
     "data": {
      "text/plain": [
       "(8.362666666666666, 3.2308625611265)"
      ]
     },
     "execution_count": 13,
     "metadata": {},
     "output_type": "execute_result"
    }
   ],
   "source": [
    "history_right.mean(), history_right.std()"
   ]
  },
  {
   "cell_type": "code",
   "execution_count": 14,
   "metadata": {},
   "outputs": [
    {
     "data": {
      "text/plain": [
       "(6.257333333333333, 2.6108324768591)"
      ]
     },
     "execution_count": 14,
     "metadata": {},
     "output_type": "execute_result"
    }
   ],
   "source": [
    "history_down.mean(), history_down.std()"
   ]
  },
  {
   "cell_type": "markdown",
   "metadata": {},
   "source": [
    "## They got it wrong!\n",
    "\n",
    "So, my work simulating this situation had led me to believe that the submitted answer to the Riddler was incorrect.  They offer the solution that the agent which steps to the right would actually be the ideal solution, and goes through a process of backwards processing to establish the expected value value.  However, the author of the solution excludes what is likely the fastest path, and thus provides an incorrect proof. While our work above provides an indication that the author of the solution is wrong, we can verify analytically with their own method.\n",
    "\n",
    "They submitted the following picture, showing how if we go north that the expected time to the endpoint from that intersection would be roughly `2T/4`.  \n",
    "![Their Thing](images/intersection_path_submitted.png)\n",
    "\n",
    "However, as you can see they only really consider a subset of possible path, and critically missed an important thing we actually know at the start.  When we head north, because of the timer to the right we know that the light will change precisely when we get to the other end of the intersection.  This allows a cheat!  Because we now know that we can cross the same intersection (0, 0) a second time for free.  This cheat allows us to walk north, but also avoid the trap of that intersection in the corner. \n",
    "![My thing](images/intersection_path_minev2.png)"
   ]
  },
  {
   "cell_type": "markdown",
   "metadata": {},
   "source": [
    "As I was calculating expected paths, I kept track of steps in addition to the time spent at intersection, as I hypothesized that a small constant different would be the only difference.  However, it turns out that by accounting for this shortcut, we actually find that either path is as long.  Because we would have to wait for the timer in either case, this result is also invarient under different starting amount on the timers."
   ]
  },
  {
   "cell_type": "code",
   "execution_count": 127,
   "metadata": {},
   "outputs": [
    {
     "data": {
      "application/vnd.jupyter.widget-view+json": {
       "model_id": "cf1c0af3781c424abb3edb46c609c58e",
       "version_major": 2,
       "version_minor": 0
      },
      "text/html": [
       "<p>Failed to display Jupyter Widget of type <code>HBox</code>.</p>\n",
       "<p>\n",
       "  If you're reading this message in the Jupyter Notebook or JupyterLab Notebook, it may mean\n",
       "  that the widgets JavaScript is still loading. If this message persists, it\n",
       "  likely means that the widgets JavaScript library is either not installed or\n",
       "  not enabled. See the <a href=\"https://ipywidgets.readthedocs.io/en/stable/user_install.html\">Jupyter\n",
       "  Widgets Documentation</a> for setup instructions.\n",
       "</p>\n",
       "<p>\n",
       "  If you're reading this message in another frontend (for example, a static\n",
       "  rendering on GitHub or <a href=\"https://nbviewer.jupyter.org/\">NBViewer</a>),\n",
       "  it may mean that your frontend doesn't currently support widgets.\n",
       "</p>\n"
      ],
      "text/plain": [
       "HBox(children=(IntProgress(value=0, max=1), HTML(value='')))"
      ]
     },
     "metadata": {},
     "output_type": "display_data"
    },
    {
     "name": "stdout",
     "output_type": "stream",
     "text": [
      "[[ 0.  0.  0.  0.  0.  0.]\n",
      " [ 1.  0.  0.  0.  0.  0.]\n",
      " [ 0.  0.  0.  0. 10.  0.]\n",
      " [ 0.  0.  0.  0.  0.  0.]]\n",
      "[[1 0]]\n",
      "[[ 0.  0.  0.  0.  0.  0.]\n",
      " [ 0.  0.  0.  0.  0.  0.]\n",
      " [ 1.  0.  0.  0. 10.  0.]\n",
      " [ 0.  0.  0.  0.  0.  0.]]\n",
      "[[0 0]]\n",
      "[[ 0.  0.  0.  0.  0.  0.]\n",
      " [ 0.  0.  0.  0.  0.  0.]\n",
      " [ 1.  0.  0.  0. 10.  0.]\n",
      " [ 0.  0.  0.  0.  0.  0.]]\n",
      "[[0 0]]\n",
      "[[ 0.  0.  0.  0.  0.  0.]\n",
      " [ 0.  0.  0.  0.  0.  0.]\n",
      " [ 1.  0.  0.  0. 10.  0.]\n",
      " [ 0.  0.  0.  0.  0.  0.]]\n",
      "[[0 0]]\n",
      "[[ 0.  0.  0.  0.  0.  0.]\n",
      " [ 0.  0.  0.  0.  0.  0.]\n",
      " [ 1.  0.  0.  0. 10.  0.]\n",
      " [ 0.  0.  0.  0.  0.  0.]]\n",
      "[[0 0]]\n",
      "[[ 0.  0.  0.  0.  0.  0.]\n",
      " [ 0.  0.  0.  0.  0.  0.]\n",
      " [ 1.  0.  0.  0. 10.  0.]\n",
      " [ 0.  0.  0.  0.  0.  0.]]\n",
      "[[0 1]\n",
      " [0 0]]\n",
      "Multiple good moves\n",
      "[[ 0.  0.  0.  0.  0.  0.]\n",
      " [ 0.  0.  0.  0.  0.  0.]\n",
      " [ 0.  1.  0.  0. 10.  0.]\n",
      " [ 0.  0.  0.  0.  0.  0.]]\n",
      "[[0 1]]\n",
      "[[ 0.  0.  0.  0.  0.  0.]\n",
      " [ 0.  0.  0.  0.  0.  0.]\n",
      " [ 0.  0.  1.  0. 10.  0.]\n",
      " [ 0.  0.  0.  0.  0.  0.]]\n",
      "[[0 1]]\n",
      "[[ 0.  0.  0.  0.  0.  0.]\n",
      " [ 0.  0.  0.  0.  0.  0.]\n",
      " [ 0.  0.  0.  1. 10.  0.]\n",
      " [ 0.  0.  0.  0.  0.  0.]]\n",
      "[[0 1]]\n",
      "[[0. 0. 0. 0. 0. 0.]\n",
      " [0. 0. 0. 0. 0. 0.]\n",
      " [0. 0. 0. 0. 1. 0.]\n",
      " [0. 0. 0. 0. 0. 0.]]\n",
      "\n"
     ]
    },
    {
     "data": {
      "text/plain": [
       "[9]"
      ]
     },
     "execution_count": 127,
     "metadata": {},
     "output_type": "execute_result"
    }
   ],
   "source": [
    "sample_down.sample(n_samples=1, verbose=1)"
   ]
  },
  {
   "cell_type": "markdown",
   "metadata": {},
   "source": [
    "# Express\n",
    "\n",
    "Given a set of small circles whose origins lie on a larger circle and whose edges just touch, we are asked about the relationship between the radius of the smaller circle and of the larger circles."
   ]
  },
  {
   "cell_type": "code",
   "execution_count": 24,
   "metadata": {},
   "outputs": [],
   "source": [
    "import math\n",
    "import matplotlib.pyplot as plt\n",
    "from matplotlib.patches import Circle\n",
    "from matplotlib.collections import PatchCollection\n",
    "import numpy as np\n",
    "%matplotlib inline"
   ]
  },
  {
   "cell_type": "code",
   "execution_count": 99,
   "metadata": {},
   "outputs": [],
   "source": [
    "def calculate_origins(n, radius):\n",
    "    \"\"\"For a cirlce of given radius, calculate origins for equidistant circles on the ring\"\"\"\n",
    "    start = (1*radius, 0)\n",
    "    origins = []\n",
    "    for i in range(n):\n",
    "        origins.append((radius*math.cos((2*math.pi*i)/n),\n",
    "                        radius*math.sin((2*math.pi*i)/n)))\n",
    "    return origins\n",
    "\n",
    "def add_circle(ax, xy, radius):\n",
    "    x, y = xy\n",
    "    patches = []\n",
    "    patches.append(Circle((x, y), radius))\n",
    "    p = PatchCollection(patches, alpha=0.4)\n",
    "    ax.add_collection(p)\n",
    "    return ax\n",
    "\n",
    "def get_small_radius(origins):\n",
    "    \"\"\"Calculate the radius of smaller circles on the ring of a large circle\"\"\"\n",
    "    return np.linalg.norm(np.array(origins[1])-np.array(origins[0]))/2"
   ]
  },
  {
   "cell_type": "code",
   "execution_count": 110,
   "metadata": {},
   "outputs": [],
   "source": [
    "N = 5"
   ]
  },
  {
   "cell_type": "code",
   "execution_count": 111,
   "metadata": {},
   "outputs": [],
   "source": [
    "def draw_weaving_circles(N):\n",
    "    # Set an arbitrary radius for the figure\n",
    "    radius = 5\n",
    "    # Calculate the points for our origins.  The first point is always (radius, 0)\n",
    "    origins = calculate_origins(N, radius)\n",
    "    # From our orgins, calculate the radius of the smaller circles\n",
    "    r = get_small_radius(origins)\n",
    "    fig, ax = plt.subplots(figsize=(5, 5))\n",
    "    ax = draw_ring(ax, (0, 0), radius)\n",
    "    for origin in origins:\n",
    "        draw_ring(ax, origin, r)\n",
    "    ax.set_xlim(-10, 10)\n",
    "    ax.set_ylim(-10, 10)\n",
    "    plt.show()"
   ]
  },
  {
   "cell_type": "code",
   "execution_count": 117,
   "metadata": {
    "scrolled": false
   },
   "outputs": [
    {
     "data": {
      "image/png": "[encoded data removed]",
      "text/plain": [
       "<matplotlib.figure.Figure at 0x247fffd30b8>"
      ]
     },
     "metadata": {},
     "output_type": "display_data"
    },
    {
     "data": {
      "image/png": "[encoded data removed]",
      "text/plain": [
       "<matplotlib.figure.Figure at 0x2478000bb00>"
      ]
     },
     "metadata": {},
     "output_type": "display_data"
    },
    {
     "data": {
      "image/png": "[encoded data removed]",
      "text/plain": [
       "<matplotlib.figure.Figure at 0x247800ba6a0>"
      ]
     },
     "metadata": {},
     "output_type": "display_data"
    },
    {
     "data": {
      "image/png": "[encoded data removed]",
      "text/plain": [
       "<matplotlib.figure.Figure at 0x247fffa79e8>"
      ]
     },
     "metadata": {},
     "output_type": "display_data"
    },
    {
     "data": {
      "image/png": "[encoded data removed]",
      "text/plain": [
       "<matplotlib.figure.Figure at 0x247801dfcc0>"
      ]
     },
     "metadata": {},
     "output_type": "display_data"
    },
    {
     "data": {
      "image/png": "[encoded data removed]",
      "text/plain": [
       "<matplotlib.figure.Figure at 0x2478020eeb8>"
      ]
     },
     "metadata": {},
     "output_type": "display_data"
    },
    {
     "data": {
      "image/png": "[encoded data removed]",
      "text/plain": [
       "<matplotlib.figure.Figure at 0x24780245780>"
      ]
     },
     "metadata": {},
     "output_type": "display_data"
    }
   ],
   "source": [
    "for i in range(2, 15, 2):\n",
    "    draw_weaving_circles(i)"
   ]
  },
  {
   "cell_type": "code",
   "execution_count": null,
   "metadata": {},
   "outputs": [],
   "source": []
  }
 ],
 "metadata": {
  "kernelspec": {
   "display_name": "Python 3",
   "language": "python",
   "name": "python3"
  },
  "language_info": {
   "codemirror_mode": {
    "name": "ipython",
    "version": 3
   },
   "file_extension": ".py",
   "mimetype": "text/x-python",
   "name": "python",
   "nbconvert_exporter": "python",
   "pygments_lexer": "ipython3",
   "version": "3.6.4"
  }
 },
 "nbformat": 4,
 "nbformat_minor": 2
}
